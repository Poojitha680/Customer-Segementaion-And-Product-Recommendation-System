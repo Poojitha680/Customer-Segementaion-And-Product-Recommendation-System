{
 "cells": [
  {
   "cell_type": "markdown",
   "metadata": {},
   "source": [
    "# Customer Segmentation & Product Recommendation System\n",
    "## Data Science Internship Task 2 - Flipkart Pvt Ltd"
   ]
  },
  {
   "cell_type": "code",
   "execution_count": null,
   "metadata": {},
   "outputs": [
    {
     "name": "stdout",
     "output_type": "stream",
     "text": [
      "  CustomerID ProductID     Category  PurchaseAmount PurchaseDate\n",
      "0       C001      P001  Electronics           15000   2024-01-15\n",
      "1       C002      P002      Fashion            2500   2024-01-16\n",
      "2       C003      P003    Groceries             500   2024-01-17\n",
      "3       C001      P002      Fashion            3000   2024-02-10\n",
      "4       C004      P004  Electronics           20000   2024-02-12\n"
     ]
    }
   ],
   "source": [
    "import pandas as pd\n",
    "import numpy as np\n",
    "import matplotlib.pyplot as plt\n",
    "import seaborn as sns\n",
    "\n",
    "# Load dataset\n",
    "df = pd.read_csv('C:\\Users\\Dell\\customer_segmentation_recommendation_demo\\sample_transactions.csv')\n",
    "df.head()\n",
    "df['PurchaseDate'] = pd.to_datetime(df['PurchaseDate'])\n",
    "print(df.head())"
   ]
  },
  {
   "cell_type": "markdown",
   "metadata": {},
   "source": [
    "### Next Steps:\n",
    "- Clean data (handle missing values, data types)\n",
    "- Feature engineering (RFM analysis, category preferences)\n",
    "- Apply clustering (K-Means / Hierarchical)\n",
    "- Build recommendation logic\n",
    "- Visualize results"
   ]
  },
  {
   "cell_type": "markdown",
   "metadata": {},
   "source": [
    " Data Cleaning"
   ]
  },
  {
   "cell_type": "code",
   "execution_count": 10,
   "metadata": {},
   "outputs": [
    {
     "name": "stdout",
     "output_type": "stream",
     "text": [
      "Missing values per column:\n",
      "CustomerID        0\n",
      "ProductID         0\n",
      "Category          0\n",
      "PurchaseAmount    0\n",
      "PurchaseDate      0\n",
      "dtype: int64\n",
      "\n",
      "Data types after cleaning:\n",
      "CustomerID                object\n",
      "ProductID                 object\n",
      "Category                  object\n",
      "PurchaseAmount           float64\n",
      "PurchaseDate      datetime64[ns]\n",
      "dtype: object\n",
      "\n",
      "Sample of cleaned data:\n",
      "  CustomerID ProductID     Category  PurchaseAmount PurchaseDate\n",
      "0       C001      P001  Electronics         15000.0   2024-01-15\n",
      "1       C002      P002      Fashion          2500.0   2024-01-16\n",
      "2       C003      P003    Groceries           500.0   2024-01-17\n",
      "3       C001      P002      Fashion          3000.0   2024-02-10\n",
      "4       C004      P004  Electronics         20000.0   2024-02-12\n"
     ]
    }
   ],
   "source": [
    "# 1. Check for missing values\n",
    "print(\"Missing values per column:\")\n",
    "print(df.isnull().sum())\n",
    "\n",
    "# 2. Handle missing values\n",
    "# - Drop rows where CustomerID or ProductID is missing (critical)\n",
    "df.dropna(subset=['CustomerID','ProductID'], inplace=True)\n",
    "df['PurchaseAmount'] = df['PurchaseAmount'].fillna(0)\n",
    "df['Category'] = df['Category'].fillna('Unknown')\n",
    "\n",
    "# 3. Ensure correct data types\n",
    "df['CustomerID'] = df['CustomerID'].astype(str)\n",
    "df['ProductID'] = df['ProductID'].astype(str)\n",
    "df['Category'] = df['Category'].astype(str)\n",
    "df['PurchaseAmount'] = df['PurchaseAmount'].astype(float)\n",
    "df['PurchaseDate'] = pd.to_datetime(df['PurchaseDate'], errors='coerce')  # coerce invalid dates\n",
    "\n",
    "df = df.dropna(subset=['PurchaseDate'])\n",
    "print(\"\\nData types after cleaning:\")\n",
    "print(df.dtypes)\n",
    "\n",
    "print(\"\\nSample of cleaned data:\")\n",
    "print(df.head())\n"
   ]
  },
  {
   "cell_type": "markdown",
   "metadata": {},
   "source": [
    "Feature Engineering"
   ]
  },
  {
   "cell_type": "code",
   "execution_count": 5,
   "metadata": {},
   "outputs": [
    {
     "name": "stdout",
     "output_type": "stream",
     "text": [
      "  CustomerID  TotalSpend  PurchaseCount  AvgPurchaseAmount  RecencyDays  \\\n",
      "0       C001       18000              2             9000.0          609   \n",
      "1       C002        2500              1             2500.0          634   \n",
      "2       C003         500              1              500.0          633   \n",
      "3       C004       20000              1            20000.0          607   \n",
      "4       C005         700              1              700.0          604   \n",
      "\n",
      "      Category  \n",
      "0  Electronics  \n",
      "1      Fashion  \n",
      "2    Groceries  \n",
      "3  Electronics  \n",
      "4    Groceries  \n"
     ]
    }
   ],
   "source": [
    "import datetime as dt\n",
    "\n",
    "# Total spend\n",
    "total_spend = df.groupby('CustomerID')['PurchaseAmount'].sum().reset_index(name='TotalSpend')\n",
    "\n",
    "# Purchase frequency\n",
    "purchase_count = df.groupby('CustomerID').size().reset_index(name='PurchaseCount')\n",
    "\n",
    "# Average purchase amount\n",
    "avg_purchase = df.groupby('CustomerID')['PurchaseAmount'].mean().reset_index(name='AvgPurchaseAmount')\n",
    "\n",
    "# Recency\n",
    "latest_date = df.groupby('CustomerID')['PurchaseDate'].max().reset_index()\n",
    "latest_date['RecencyDays'] = (dt.datetime.now() - latest_date['PurchaseDate']).dt.days\n",
    "\n",
    "# Preferred category\n",
    "preferred_category = df.groupby(['CustomerID','Category']).size().reset_index(name='Count')\n",
    "preferred_category = preferred_category.loc[preferred_category.groupby('CustomerID')['Count'].idxmax()][['CustomerID','Category']]\n",
    "\n",
    "# Merge all\n",
    "customer_profiles = total_spend.merge(purchase_count, on='CustomerID') \\\n",
    "                               .merge(avg_purchase, on='CustomerID') \\\n",
    "                               .merge(latest_date[['CustomerID','RecencyDays']], on='CustomerID') \\\n",
    "                               .merge(preferred_category, on='CustomerID')\n",
    "\n",
    "print(customer_profiles)\n"
   ]
  },
  {
   "cell_type": "markdown",
   "metadata": {},
   "source": [
    "Customer Segmentation"
   ]
  },
  {
   "cell_type": "code",
   "execution_count": 6,
   "metadata": {},
   "outputs": [
    {
     "name": "stdout",
     "output_type": "stream",
     "text": [
      "  CustomerID  TotalSpend  PurchaseCount  AvgPurchaseAmount  RecencyDays  \\\n",
      "0       C001       18000              2             9000.0          609   \n",
      "1       C002        2500              1             2500.0          634   \n",
      "2       C003         500              1              500.0          633   \n",
      "3       C004       20000              1            20000.0          607   \n",
      "4       C005         700              1              700.0          604   \n",
      "\n",
      "      Category  Cluster  \n",
      "0  Electronics        2  \n",
      "1      Fashion        0  \n",
      "2    Groceries        0  \n",
      "3  Electronics        1  \n",
      "4    Groceries        0  \n"
     ]
    }
   ],
   "source": [
    "from sklearn.preprocessing import StandardScaler\n",
    "from sklearn.cluster import KMeans\n",
    "\n",
    "features = ['TotalSpend','PurchaseCount','AvgPurchaseAmount','RecencyDays']\n",
    "X = customer_profiles[features]\n",
    "\n",
    "scaler = StandardScaler()\n",
    "X_scaled = scaler.fit_transform(X)\n",
    "\n",
    "kmeans = KMeans(n_clusters=3, random_state=42)\n",
    "customer_profiles['Cluster'] = kmeans.fit_predict(X_scaled)\n",
    "\n",
    "print(customer_profiles)\n"
   ]
  },
  {
   "cell_type": "markdown",
   "metadata": {},
   "source": [
    "Visualization"
   ]
  },
  {
   "cell_type": "code",
   "execution_count": 7,
   "metadata": {},
   "outputs": [
    {
     "data": {
      "image/png": "[encoded data removed]",
      "text/plain": [
       "<Figure size 640x480 with 1 Axes>"
      ]
     },
     "metadata": {},
     "output_type": "display_data"
    },
    {
     "data": {
      "image/png": "[encoded data removed]",
      "text/plain": [
       "<Figure size 640x480 with 1 Axes>"
      ]
     },
     "metadata": {},
     "output_type": "display_data"
    }
   ],
   "source": [
    "import seaborn as sns\n",
    "import matplotlib.pyplot as plt\n",
    "\n",
    "sns.countplot(x='Cluster', data=customer_profiles)\n",
    "plt.title(\"Customer Cluster Distribution\")\n",
    "plt.show()\n",
    "\n",
    "sns.barplot(x='Cluster', y='TotalSpend', data=customer_profiles)\n",
    "plt.title(\"Average Spend per Cluster\")\n",
    "plt.show()\n"
   ]
  },
  {
   "cell_type": "markdown",
   "metadata": {},
   "source": [
    "Recommendation System (Simple)"
   ]
  },
  {
   "cell_type": "code",
   "execution_count": 8,
   "metadata": {},
   "outputs": [
    {
     "name": "stdout",
     "output_type": "stream",
     "text": [
      "   Cluster     Category  PurchaseAmount\n",
      "0        0      Fashion            2500\n",
      "1        0    Groceries            1200\n",
      "2        1  Electronics           20000\n",
      "3        2  Electronics           15000\n",
      "4        2      Fashion            3000\n"
     ]
    }
   ],
   "source": [
    "df_clustered = df.merge(customer_profiles[['CustomerID','Cluster']], on='CustomerID')\n",
    "top_category_per_cluster = df_clustered.groupby(['Cluster','Category'])['PurchaseAmount'] \\\n",
    "                                      .sum().reset_index() \\\n",
    "                                      .sort_values(['Cluster','PurchaseAmount'], ascending=[True,False])\n",
    "\n",
    "print(top_category_per_cluster)\n"
   ]
  },
  {
   "cell_type": "code",
   "execution_count": null,
   "metadata": {},
   "outputs": [],
   "source": []
  }
 ],
 "metadata": {
  "kernelspec": {
   "display_name": "venv",
   "language": "python",
   "name": "python3"
  },
  "language_info": {
   "codemirror_mode": {
    "name": "ipython",
    "version": 3
   },
   "file_extension": ".py",
   "mimetype": "text/x-python",
   "name": "python",
   "nbconvert_exporter": "python",
   "pygments_lexer": "ipython3",
   "version": "3.12.10"
  }
 },
 "nbformat": 4,
 "nbformat_minor": 2
}
