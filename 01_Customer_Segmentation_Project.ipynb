{
 "cells": [
  {
   "cell_type": "code",
   "execution_count": 5,
   "id": "19b76433-01b3-4fd5-9b7e-e6f42318d53e",
   "metadata": {},
   "outputs": [],
   "source": [
    "import pandas as pd\n",
    "import numpy as np\n",
    "import matplotlib.pyplot as plt\n",
    "import seaborn as sns"
   ]
  },
  {
   "cell_type": "markdown",
   "id": "ec41a15c-99a0-4e5f-9ef3-dee30d13a724",
   "metadata": {},
   "source": [
    "## Load the Dataset - sample_transactions.csv"
   ]
  },
  {
   "cell_type": "code",
   "execution_count": 6,
   "id": "7a4a0a8d-7aaa-48bf-8932-cb1d84645f45",
   "metadata": {},
   "outputs": [
    {
     "data": {
      "text/html": [
       "<div>\n",
       "<style scoped>\n",
       "    .dataframe tbody tr th:only-of-type {\n",
       "        vertical-align: middle;\n",
       "    }\n",
       "\n",
       "    .dataframe tbody tr th {\n",
       "        vertical-align: top;\n",
       "    }\n",
       "\n",
       "    .dataframe thead th {\n",
       "        text-align: right;\n",
       "    }\n",
       "</style>\n",
       "<table border=\"1\" class=\"dataframe\">\n",
       "  <thead>\n",
       "    <tr style=\"text-align: right;\">\n",
       "      <th></th>\n",
       "      <th>CustomerID</th>\n",
       "      <th>ProductID</th>\n",
       "      <th>Category</th>\n",
       "      <th>PurchaseAmount</th>\n",
       "      <th>PurchaseDate</th>\n",
       "    </tr>\n",
       "  </thead>\n",
       "  <tbody>\n",
       "    <tr>\n",
       "      <th>0</th>\n",
       "      <td>C001</td>\n",
       "      <td>P001</td>\n",
       "      <td>Electronics</td>\n",
       "      <td>15000</td>\n",
       "      <td>2024-01-15</td>\n",
       "    </tr>\n",
       "    <tr>\n",
       "      <th>1</th>\n",
       "      <td>C002</td>\n",
       "      <td>P002</td>\n",
       "      <td>Fashion</td>\n",
       "      <td>2500</td>\n",
       "      <td>2024-01-16</td>\n",
       "    </tr>\n",
       "    <tr>\n",
       "      <th>2</th>\n",
       "      <td>C003</td>\n",
       "      <td>P003</td>\n",
       "      <td>Groceries</td>\n",
       "      <td>500</td>\n",
       "      <td>2024-01-17</td>\n",
       "    </tr>\n",
       "    <tr>\n",
       "      <th>3</th>\n",
       "      <td>C001</td>\n",
       "      <td>P002</td>\n",
       "      <td>Fashion</td>\n",
       "      <td>3000</td>\n",
       "      <td>2024-02-10</td>\n",
       "    </tr>\n",
       "    <tr>\n",
       "      <th>4</th>\n",
       "      <td>C004</td>\n",
       "      <td>P004</td>\n",
       "      <td>Electronics</td>\n",
       "      <td>20000</td>\n",
       "      <td>2024-02-12</td>\n",
       "    </tr>\n",
       "  </tbody>\n",
       "</table>\n",
       "</div>"
      ],
      "text/plain": [
       "  CustomerID ProductID     Category  PurchaseAmount PurchaseDate\n",
       "0       C001      P001  Electronics           15000   2024-01-15\n",
       "1       C002      P002      Fashion            2500   2024-01-16\n",
       "2       C003      P003    Groceries             500   2024-01-17\n",
       "3       C001      P002      Fashion            3000   2024-02-10\n",
       "4       C004      P004  Electronics           20000   2024-02-12"
      ]
     },
     "execution_count": 6,
     "metadata": {},
     "output_type": "execute_result"
    }
   ],
   "source": [
    "df = pd.read_csv('sample_transactions.csv')\n",
    "df.head()"
   ]
  },
  {
   "cell_type": "markdown",
   "id": "3f054f42-341a-490c-8630-95b357176f9c",
   "metadata": {},
   "source": [
    "### Next Steps to do:\n",
    "- Cleaning the data (handle missing values, data types)\n",
    "- Doing Feature engineering (RFM analysis, category preferences)\n",
    "- Apply clustering (K-Means / Hierarchical)\n",
    "- Visualization results\n",
    "- Build recommendation logic"
   ]
  },
  {
   "cell_type": "markdown",
   "id": "559f6222-51d2-4f5a-8f60-03ed4d0724e2",
   "metadata": {},
   "source": [
    "### 1. Check for missing values in the data "
   ]
  },
  {
   "cell_type": "code",
   "execution_count": 7,
   "id": "7584df5b-b743-4c11-8600-0a336250bdca",
   "metadata": {},
   "outputs": [
    {
     "name": "stdout",
     "output_type": "stream",
     "text": [
      "Missing values per column:\n",
      "CustomerID        0\n",
      "ProductID         0\n",
      "Category          0\n",
      "PurchaseAmount    0\n",
      "PurchaseDate      0\n",
      "dtype: int64\n"
     ]
    }
   ],
   "source": [
    "print(\"Missing values per column:\")\n",
    "print(df.isnull().sum())"
   ]
  },
  {
   "cell_type": "markdown",
   "id": "01d1235c-7520-4089-b6dd-6b4d72bf9379",
   "metadata": {},
   "source": [
    "### 2. Handle missing values"
   ]
  },
  {
   "cell_type": "code",
   "execution_count": 8,
   "id": "23db1606-d625-4134-86a9-b070f514f04f",
   "metadata": {},
   "outputs": [],
   "source": [
    "# - Drop the rows where CustomerID or ProductID is missing.\n",
    "df.dropna(subset=['CustomerID','ProductID'], inplace=True)"
   ]
  },
  {
   "cell_type": "code",
   "execution_count": 9,
   "id": "0bf51168-11a7-4a6b-88e1-0497abee1af2",
   "metadata": {},
   "outputs": [],
   "source": [
    "# if PurchaseAmount is Missing , fill it with '0'\n",
    "df['PurchaseAmount'] = df['PurchaseAmount'].fillna(0)\n"
   ]
  },
  {
   "cell_type": "code",
   "execution_count": 10,
   "id": "07345c9f-6a04-4f1c-9564-2cb9429fba6e",
   "metadata": {},
   "outputs": [
    {
     "data": {
      "text/html": [
       "<div>\n",
       "<style scoped>\n",
       "    .dataframe tbody tr th:only-of-type {\n",
       "        vertical-align: middle;\n",
       "    }\n",
       "\n",
       "    .dataframe tbody tr th {\n",
       "        vertical-align: top;\n",
       "    }\n",
       "\n",
       "    .dataframe thead th {\n",
       "        text-align: right;\n",
       "    }\n",
       "</style>\n",
       "<table border=\"1\" class=\"dataframe\">\n",
       "  <thead>\n",
       "    <tr style=\"text-align: right;\">\n",
       "      <th></th>\n",
       "      <th>CustomerID</th>\n",
       "      <th>ProductID</th>\n",
       "      <th>Category</th>\n",
       "      <th>PurchaseAmount</th>\n",
       "      <th>PurchaseDate</th>\n",
       "    </tr>\n",
       "  </thead>\n",
       "  <tbody>\n",
       "    <tr>\n",
       "      <th>0</th>\n",
       "      <td>C001</td>\n",
       "      <td>P001</td>\n",
       "      <td>Electronics</td>\n",
       "      <td>15000</td>\n",
       "      <td>2024-01-15</td>\n",
       "    </tr>\n",
       "    <tr>\n",
       "      <th>1</th>\n",
       "      <td>C002</td>\n",
       "      <td>P002</td>\n",
       "      <td>Fashion</td>\n",
       "      <td>2500</td>\n",
       "      <td>2024-01-16</td>\n",
       "    </tr>\n",
       "    <tr>\n",
       "      <th>2</th>\n",
       "      <td>C003</td>\n",
       "      <td>P003</td>\n",
       "      <td>Groceries</td>\n",
       "      <td>500</td>\n",
       "      <td>2024-01-17</td>\n",
       "    </tr>\n",
       "    <tr>\n",
       "      <th>3</th>\n",
       "      <td>C001</td>\n",
       "      <td>P002</td>\n",
       "      <td>Fashion</td>\n",
       "      <td>3000</td>\n",
       "      <td>2024-02-10</td>\n",
       "    </tr>\n",
       "    <tr>\n",
       "      <th>4</th>\n",
       "      <td>C004</td>\n",
       "      <td>P004</td>\n",
       "      <td>Electronics</td>\n",
       "      <td>20000</td>\n",
       "      <td>2024-02-12</td>\n",
       "    </tr>\n",
       "    <tr>\n",
       "      <th>5</th>\n",
       "      <td>C005</td>\n",
       "      <td>P005</td>\n",
       "      <td>Groceries</td>\n",
       "      <td>700</td>\n",
       "      <td>2024-02-15</td>\n",
       "    </tr>\n",
       "  </tbody>\n",
       "</table>\n",
       "</div>"
      ],
      "text/plain": [
       "  CustomerID ProductID     Category  PurchaseAmount PurchaseDate\n",
       "0       C001      P001  Electronics           15000   2024-01-15\n",
       "1       C002      P002      Fashion            2500   2024-01-16\n",
       "2       C003      P003    Groceries             500   2024-01-17\n",
       "3       C001      P002      Fashion            3000   2024-02-10\n",
       "4       C004      P004  Electronics           20000   2024-02-12\n",
       "5       C005      P005    Groceries             700   2024-02-15"
      ]
     },
     "execution_count": 10,
     "metadata": {},
     "output_type": "execute_result"
    }
   ],
   "source": [
    "# if Category is null , fill the null cell with \"Unknown\"\n",
    "df['Category'] = df['Category'].fillna('Unknown')\n",
    "df"
   ]
  },
  {
   "cell_type": "markdown",
   "id": "a987a239-507c-4cf2-8e44-8eaafbd1cf0d",
   "metadata": {},
   "source": [
    "### 3. Ensure correct data types"
   ]
  },
  {
   "cell_type": "code",
   "execution_count": 11,
   "id": "9a1c0424-3d36-4228-a1d6-b6fcb496e781",
   "metadata": {},
   "outputs": [],
   "source": [
    "df['CustomerID'] = df['CustomerID'].astype(str)\n",
    "df['ProductID'] = df['ProductID'].astype(str)\n",
    "df['Category'] = df['Category'].astype(str)\n",
    "df['PurchaseAmount'] = df['PurchaseAmount'].astype(float)\n",
    "df['PurchaseDate'] = pd.to_datetime(df['PurchaseDate'], errors='coerce')"
   ]
  },
  {
   "cell_type": "code",
   "execution_count": 12,
   "id": "cc7bcac2-6915-46d8-90a8-6c9850480d4d",
   "metadata": {},
   "outputs": [
    {
     "name": "stdout",
     "output_type": "stream",
     "text": [
      "\n",
      "Data types after cleaning:\n",
      "CustomerID                object\n",
      "ProductID                 object\n",
      "Category                  object\n",
      "PurchaseAmount           float64\n",
      "PurchaseDate      datetime64[ns]\n",
      "dtype: object\n",
      "\n",
      "Sample of cleaned data:\n"
     ]
    },
    {
     "data": {
      "text/html": [
       "<div>\n",
       "<style scoped>\n",
       "    .dataframe tbody tr th:only-of-type {\n",
       "        vertical-align: middle;\n",
       "    }\n",
       "\n",
       "    .dataframe tbody tr th {\n",
       "        vertical-align: top;\n",
       "    }\n",
       "\n",
       "    .dataframe thead th {\n",
       "        text-align: right;\n",
       "    }\n",
       "</style>\n",
       "<table border=\"1\" class=\"dataframe\">\n",
       "  <thead>\n",
       "    <tr style=\"text-align: right;\">\n",
       "      <th></th>\n",
       "      <th>CustomerID</th>\n",
       "      <th>ProductID</th>\n",
       "      <th>Category</th>\n",
       "      <th>PurchaseAmount</th>\n",
       "      <th>PurchaseDate</th>\n",
       "    </tr>\n",
       "  </thead>\n",
       "  <tbody>\n",
       "    <tr>\n",
       "      <th>0</th>\n",
       "      <td>C001</td>\n",
       "      <td>P001</td>\n",
       "      <td>Electronics</td>\n",
       "      <td>15000.0</td>\n",
       "      <td>2024-01-15</td>\n",
       "    </tr>\n",
       "    <tr>\n",
       "      <th>1</th>\n",
       "      <td>C002</td>\n",
       "      <td>P002</td>\n",
       "      <td>Fashion</td>\n",
       "      <td>2500.0</td>\n",
       "      <td>2024-01-16</td>\n",
       "    </tr>\n",
       "    <tr>\n",
       "      <th>2</th>\n",
       "      <td>C003</td>\n",
       "      <td>P003</td>\n",
       "      <td>Groceries</td>\n",
       "      <td>500.0</td>\n",
       "      <td>2024-01-17</td>\n",
       "    </tr>\n",
       "    <tr>\n",
       "      <th>3</th>\n",
       "      <td>C001</td>\n",
       "      <td>P002</td>\n",
       "      <td>Fashion</td>\n",
       "      <td>3000.0</td>\n",
       "      <td>2024-02-10</td>\n",
       "    </tr>\n",
       "    <tr>\n",
       "      <th>4</th>\n",
       "      <td>C004</td>\n",
       "      <td>P004</td>\n",
       "      <td>Electronics</td>\n",
       "      <td>20000.0</td>\n",
       "      <td>2024-02-12</td>\n",
       "    </tr>\n",
       "  </tbody>\n",
       "</table>\n",
       "</div>"
      ],
      "text/plain": [
       "  CustomerID ProductID     Category  PurchaseAmount PurchaseDate\n",
       "0       C001      P001  Electronics         15000.0   2024-01-15\n",
       "1       C002      P002      Fashion          2500.0   2024-01-16\n",
       "2       C003      P003    Groceries           500.0   2024-01-17\n",
       "3       C001      P002      Fashion          3000.0   2024-02-10\n",
       "4       C004      P004  Electronics         20000.0   2024-02-12"
      ]
     },
     "execution_count": 12,
     "metadata": {},
     "output_type": "execute_result"
    }
   ],
   "source": [
    "df = df.dropna(subset=['PurchaseDate'])\n",
    "print(\"\\nData types after cleaning:\")\n",
    "print(df.dtypes)\n",
    "\n",
    "print(\"\\nSample of cleaned data:\")\n",
    "df.head()"
   ]
  },
  {
   "cell_type": "markdown",
   "id": "f490ddf8-e57d-441a-a829-731d01bcdf6b",
   "metadata": {},
   "source": [
    "### Feature Engineering"
   ]
  },
  {
   "cell_type": "code",
   "execution_count": 13,
   "id": "6958faeb-0257-466a-b819-4602c60328ba",
   "metadata": {},
   "outputs": [
    {
     "name": "stdout",
     "output_type": "stream",
     "text": [
      "  CustomerID  Total_Spent\n",
      "0       C001      18000.0\n",
      "1       C002       2500.0\n",
      "2       C003        500.0\n",
      "3       C004      20000.0\n",
      "4       C005        700.0\n"
     ]
    }
   ],
   "source": [
    "# Total spent \n",
    "total_spent = df.groupby('CustomerID')['PurchaseAmount'].sum().reset_index(name='Total_Spent')\n",
    "print(total_spent)"
   ]
  },
  {
   "cell_type": "code",
   "execution_count": 14,
   "id": "b0510a1a-e3fc-4791-b2aa-a4e9c53acd00",
   "metadata": {},
   "outputs": [
    {
     "name": "stdout",
     "output_type": "stream",
     "text": [
      "  CustomerID  PurchaseCount\n",
      "0       C001              2\n",
      "1       C002              1\n",
      "2       C003              1\n",
      "3       C004              1\n",
      "4       C005              1\n"
     ]
    }
   ],
   "source": [
    "# Purchase frequency\n",
    "purchase_count = df.groupby('CustomerID').size().reset_index(name='PurchaseCount')\n",
    "print(purchase_count)"
   ]
  },
  {
   "cell_type": "code",
   "execution_count": 15,
   "id": "ed4c63b4-31b7-4983-b2c0-3ecbd7ea2f08",
   "metadata": {},
   "outputs": [
    {
     "name": "stdout",
     "output_type": "stream",
     "text": [
      "  CustomerID  AvgPurchaseAmount\n",
      "0       C001             9000.0\n",
      "1       C002             2500.0\n",
      "2       C003              500.0\n",
      "3       C004            20000.0\n",
      "4       C005              700.0\n"
     ]
    }
   ],
   "source": [
    "# Average purchase amount\n",
    "avg_purchase = df.groupby('CustomerID')['PurchaseAmount'].mean().reset_index(name='AvgPurchaseAmount')\n",
    "print(avg_purchase)"
   ]
  },
  {
   "cell_type": "code",
   "execution_count": 16,
   "id": "5012fbf2-2505-4333-b4d2-4c46e1f94887",
   "metadata": {},
   "outputs": [
    {
     "name": "stdout",
     "output_type": "stream",
     "text": [
      "  CustomerID PurchaseDate\n",
      "0       C001   2024-02-10\n",
      "1       C002   2024-01-16\n",
      "2       C003   2024-01-17\n",
      "3       C004   2024-02-12\n",
      "4       C005   2024-02-15\n",
      "\n",
      "0    624\n",
      "1    649\n",
      "2    648\n",
      "3    622\n",
      "4    619\n",
      "Name: RecencyDays, dtype: int64\n"
     ]
    }
   ],
   "source": [
    "import datetime as dt\n",
    "\n",
    "# Recency\n",
    "latest_date = df.groupby('CustomerID')['PurchaseDate'].max().reset_index()\n",
    "print(latest_date)\n",
    "print()\n",
    "latest_date['RecencyDays'] = (dt.datetime.now() - latest_date['PurchaseDate']).dt.days\n",
    "print(latest_date['RecencyDays'])"
   ]
  },
  {
   "cell_type": "code",
   "execution_count": 17,
   "id": "b493f226-8a0c-446a-bb95-80b16d60ee70",
   "metadata": {},
   "outputs": [
    {
     "name": "stdout",
     "output_type": "stream",
     "text": [
      "  CustomerID PurchaseDate  RecencyDays\n",
      "0       C001   2024-02-10          624\n",
      "1       C002   2024-01-16          649\n",
      "2       C003   2024-01-17          648\n",
      "3       C004   2024-02-12          622\n",
      "4       C005   2024-02-15          619\n"
     ]
    }
   ],
   "source": [
    "print(latest_date)"
   ]
  },
  {
   "cell_type": "code",
   "execution_count": 18,
   "id": "6b03d90b-0a40-42e9-a12f-69923d1dcfb8",
   "metadata": {},
   "outputs": [
    {
     "name": "stdout",
     "output_type": "stream",
     "text": [
      "  CustomerID     Category\n",
      "0       C001  Electronics\n",
      "2       C002      Fashion\n",
      "3       C003    Groceries\n",
      "4       C004  Electronics\n",
      "5       C005    Groceries\n"
     ]
    }
   ],
   "source": [
    "# Preferred category by the Customers \n",
    "preferred_category = df.groupby(['CustomerID','Category']).size().reset_index(name='Count')\n",
    "preferred_category = preferred_category.loc[preferred_category.groupby('CustomerID')['Count'].idxmax()][['CustomerID','Category']]\n",
    "print(preferred_category)"
   ]
  },
  {
   "cell_type": "code",
   "execution_count": 19,
   "id": "088a21f6-9e7d-4f97-82f0-d09fb16fde93",
   "metadata": {},
   "outputs": [
    {
     "data": {
      "text/html": [
       "<div>\n",
       "<style scoped>\n",
       "    .dataframe tbody tr th:only-of-type {\n",
       "        vertical-align: middle;\n",
       "    }\n",
       "\n",
       "    .dataframe tbody tr th {\n",
       "        vertical-align: top;\n",
       "    }\n",
       "\n",
       "    .dataframe thead th {\n",
       "        text-align: right;\n",
       "    }\n",
       "</style>\n",
       "<table border=\"1\" class=\"dataframe\">\n",
       "  <thead>\n",
       "    <tr style=\"text-align: right;\">\n",
       "      <th></th>\n",
       "      <th>CustomerID</th>\n",
       "      <th>Total_Spent</th>\n",
       "      <th>PurchaseCount</th>\n",
       "      <th>AvgPurchaseAmount</th>\n",
       "      <th>RecencyDays</th>\n",
       "      <th>Category</th>\n",
       "    </tr>\n",
       "  </thead>\n",
       "  <tbody>\n",
       "    <tr>\n",
       "      <th>0</th>\n",
       "      <td>C001</td>\n",
       "      <td>18000.0</td>\n",
       "      <td>2</td>\n",
       "      <td>9000.0</td>\n",
       "      <td>624</td>\n",
       "      <td>Electronics</td>\n",
       "    </tr>\n",
       "    <tr>\n",
       "      <th>1</th>\n",
       "      <td>C002</td>\n",
       "      <td>2500.0</td>\n",
       "      <td>1</td>\n",
       "      <td>2500.0</td>\n",
       "      <td>649</td>\n",
       "      <td>Fashion</td>\n",
       "    </tr>\n",
       "    <tr>\n",
       "      <th>2</th>\n",
       "      <td>C003</td>\n",
       "      <td>500.0</td>\n",
       "      <td>1</td>\n",
       "      <td>500.0</td>\n",
       "      <td>648</td>\n",
       "      <td>Groceries</td>\n",
       "    </tr>\n",
       "    <tr>\n",
       "      <th>3</th>\n",
       "      <td>C004</td>\n",
       "      <td>20000.0</td>\n",
       "      <td>1</td>\n",
       "      <td>20000.0</td>\n",
       "      <td>622</td>\n",
       "      <td>Electronics</td>\n",
       "    </tr>\n",
       "    <tr>\n",
       "      <th>4</th>\n",
       "      <td>C005</td>\n",
       "      <td>700.0</td>\n",
       "      <td>1</td>\n",
       "      <td>700.0</td>\n",
       "      <td>619</td>\n",
       "      <td>Groceries</td>\n",
       "    </tr>\n",
       "  </tbody>\n",
       "</table>\n",
       "</div>"
      ],
      "text/plain": [
       "  CustomerID  Total_Spent  PurchaseCount  AvgPurchaseAmount  RecencyDays  \\\n",
       "0       C001      18000.0              2             9000.0          624   \n",
       "1       C002       2500.0              1             2500.0          649   \n",
       "2       C003        500.0              1              500.0          648   \n",
       "3       C004      20000.0              1            20000.0          622   \n",
       "4       C005        700.0              1              700.0          619   \n",
       "\n",
       "      Category  \n",
       "0  Electronics  \n",
       "1      Fashion  \n",
       "2    Groceries  \n",
       "3  Electronics  \n",
       "4    Groceries  "
      ]
     },
     "execution_count": 19,
     "metadata": {},
     "output_type": "execute_result"
    }
   ],
   "source": [
    "# Merge all the features \n",
    "customer_profiles = total_spent.merge(purchase_count, on='CustomerID') \\\n",
    "                               .merge(avg_purchase, on='CustomerID') \\\n",
    "                               .merge(latest_date[['CustomerID','RecencyDays']], on='CustomerID') \\\n",
    "                               .merge(preferred_category, on='CustomerID')\n",
    "\n",
    "customer_profiles"
   ]
  },
  {
   "cell_type": "markdown",
   "id": "7849a573-feee-4fc8-81e4-6244365dbc61",
   "metadata": {},
   "source": [
    "### Customer Segmentation"
   ]
  },
  {
   "cell_type": "code",
   "execution_count": 20,
   "id": "d7f729a3-ca9d-4401-97e1-2776ef871598",
   "metadata": {},
   "outputs": [
    {
     "data": {
      "text/html": [
       "<div>\n",
       "<style scoped>\n",
       "    .dataframe tbody tr th:only-of-type {\n",
       "        vertical-align: middle;\n",
       "    }\n",
       "\n",
       "    .dataframe tbody tr th {\n",
       "        vertical-align: top;\n",
       "    }\n",
       "\n",
       "    .dataframe thead th {\n",
       "        text-align: right;\n",
       "    }\n",
       "</style>\n",
       "<table border=\"1\" class=\"dataframe\">\n",
       "  <thead>\n",
       "    <tr style=\"text-align: right;\">\n",
       "      <th></th>\n",
       "      <th>CustomerID</th>\n",
       "      <th>Total_Spent</th>\n",
       "      <th>PurchaseCount</th>\n",
       "      <th>AvgPurchaseAmount</th>\n",
       "      <th>RecencyDays</th>\n",
       "      <th>Category</th>\n",
       "      <th>Cluster</th>\n",
       "    </tr>\n",
       "  </thead>\n",
       "  <tbody>\n",
       "    <tr>\n",
       "      <th>0</th>\n",
       "      <td>C001</td>\n",
       "      <td>18000.0</td>\n",
       "      <td>2</td>\n",
       "      <td>9000.0</td>\n",
       "      <td>624</td>\n",
       "      <td>Electronics</td>\n",
       "      <td>2</td>\n",
       "    </tr>\n",
       "    <tr>\n",
       "      <th>1</th>\n",
       "      <td>C002</td>\n",
       "      <td>2500.0</td>\n",
       "      <td>1</td>\n",
       "      <td>2500.0</td>\n",
       "      <td>649</td>\n",
       "      <td>Fashion</td>\n",
       "      <td>0</td>\n",
       "    </tr>\n",
       "    <tr>\n",
       "      <th>2</th>\n",
       "      <td>C003</td>\n",
       "      <td>500.0</td>\n",
       "      <td>1</td>\n",
       "      <td>500.0</td>\n",
       "      <td>648</td>\n",
       "      <td>Groceries</td>\n",
       "      <td>0</td>\n",
       "    </tr>\n",
       "    <tr>\n",
       "      <th>3</th>\n",
       "      <td>C004</td>\n",
       "      <td>20000.0</td>\n",
       "      <td>1</td>\n",
       "      <td>20000.0</td>\n",
       "      <td>622</td>\n",
       "      <td>Electronics</td>\n",
       "      <td>1</td>\n",
       "    </tr>\n",
       "    <tr>\n",
       "      <th>4</th>\n",
       "      <td>C005</td>\n",
       "      <td>700.0</td>\n",
       "      <td>1</td>\n",
       "      <td>700.0</td>\n",
       "      <td>619</td>\n",
       "      <td>Groceries</td>\n",
       "      <td>0</td>\n",
       "    </tr>\n",
       "  </tbody>\n",
       "</table>\n",
       "</div>"
      ],
      "text/plain": [
       "  CustomerID  Total_Spent  PurchaseCount  AvgPurchaseAmount  RecencyDays  \\\n",
       "0       C001      18000.0              2             9000.0          624   \n",
       "1       C002       2500.0              1             2500.0          649   \n",
       "2       C003        500.0              1              500.0          648   \n",
       "3       C004      20000.0              1            20000.0          622   \n",
       "4       C005        700.0              1              700.0          619   \n",
       "\n",
       "      Category  Cluster  \n",
       "0  Electronics        2  \n",
       "1      Fashion        0  \n",
       "2    Groceries        0  \n",
       "3  Electronics        1  \n",
       "4    Groceries        0  "
      ]
     },
     "execution_count": 20,
     "metadata": {},
     "output_type": "execute_result"
    }
   ],
   "source": [
    "from sklearn.preprocessing import StandardScaler\n",
    "from sklearn.cluster import KMeans\n",
    "\n",
    "features = ['Total_Spent','PurchaseCount','AvgPurchaseAmount','RecencyDays']\n",
    "X = customer_profiles[features]\n",
    "\n",
    "scaler = StandardScaler()\n",
    "X_scaled = scaler.fit_transform(X)\n",
    "\n",
    "kmeans = KMeans(n_clusters=3, random_state=42)\n",
    "customer_profiles['Cluster'] = kmeans.fit_predict(X_scaled)\n",
    "\n",
    "customer_profiles"
   ]
  },
  {
   "cell_type": "code",
   "execution_count": 21,
   "id": "22a0d505-8ec7-485f-be9e-2db86f08b0cd",
   "metadata": {},
   "outputs": [
    {
     "data": {
      "image/png": "[encoded data removed]",
      "text/plain": [
       "<Figure size 640x480 with 1 Axes>"
      ]
     },
     "metadata": {},
     "output_type": "display_data"
    },
    {
     "data": {
      "image/png": "[encoded data removed]",
      "text/plain": [
       "<Figure size 640x480 with 1 Axes>"
      ]
     },
     "metadata": {},
     "output_type": "display_data"
    }
   ],
   "source": [
    "import seaborn as sns\n",
    "import matplotlib.pyplot as plt\n",
    "\n",
    "sns.countplot(x='Cluster', data=customer_profiles)\n",
    "plt.title(\"Customer Cluster Distribution\")\n",
    "plt.show()\n",
    "\n",
    "sns.barplot(x='Cluster', y='Total_Spent', data=customer_profiles)\n",
    "plt.title(\"Average Spend per Cluster\")\n",
    "plt.show()"
   ]
  },
  {
   "cell_type": "markdown",
   "id": "255ad83e-cd95-47ad-93b4-27e7dccece99",
   "metadata": {},
   "source": [
    "###Recommendations based on Total Amount, Total Freq, Hybrid of Amount & Freq"
   ]
  },
  {
   "cell_type": "code",
   "execution_count": 22,
   "id": "9524fab3-b141-4a73-8d53-412517df356d",
   "metadata": {},
   "outputs": [
    {
     "name": "stdout",
     "output_type": "stream",
     "text": [
      "Recommendation by Total Amount\n",
      "\n",
      "   Cluster     Category  PurchaseAmount\n",
      "0        0      Fashion          2500.0\n",
      "1        0    Groceries          1200.0\n",
      "2        1  Electronics         20000.0\n",
      "3        2  Electronics         15000.0\n",
      "4        2      Fashion          3000.0\n"
     ]
    }
   ],
   "source": [
    "df_clustered = df.merge(customer_profiles[['CustomerID','Cluster']], on='CustomerID')\n",
    "top_category_per_cluster = df_clustered.groupby(['Cluster','Category'])['PurchaseAmount'] \\\n",
    "                                      .sum().reset_index() \\\n",
    "                                      .sort_values(['Cluster','PurchaseAmount'], ascending=[True,False])\n",
    "\n",
    "print(\"Recommendation by Total Amount\")\n",
    "print()\n",
    "print(top_category_per_cluster)"
   ]
  },
  {
   "cell_type": "code",
   "execution_count": 23,
   "id": "44530ba9-a306-48fe-98c8-2f985ec4e8a0",
   "metadata": {},
   "outputs": [
    {
     "name": "stdout",
     "output_type": "stream",
     "text": [
      "Recommended by Frequency:\n"
     ]
    },
    {
     "data": {
      "text/html": [
       "<div>\n",
       "<style scoped>\n",
       "    .dataframe tbody tr th:only-of-type {\n",
       "        vertical-align: middle;\n",
       "    }\n",
       "\n",
       "    .dataframe tbody tr th {\n",
       "        vertical-align: top;\n",
       "    }\n",
       "\n",
       "    .dataframe thead th {\n",
       "        text-align: right;\n",
       "    }\n",
       "</style>\n",
       "<table border=\"1\" class=\"dataframe\">\n",
       "  <thead>\n",
       "    <tr style=\"text-align: right;\">\n",
       "      <th></th>\n",
       "      <th>Cluster</th>\n",
       "      <th>Category</th>\n",
       "      <th>PurchaseCount</th>\n",
       "    </tr>\n",
       "  </thead>\n",
       "  <tbody>\n",
       "    <tr>\n",
       "      <th>1</th>\n",
       "      <td>0</td>\n",
       "      <td>Groceries</td>\n",
       "      <td>2</td>\n",
       "    </tr>\n",
       "    <tr>\n",
       "      <th>0</th>\n",
       "      <td>0</td>\n",
       "      <td>Fashion</td>\n",
       "      <td>1</td>\n",
       "    </tr>\n",
       "    <tr>\n",
       "      <th>2</th>\n",
       "      <td>1</td>\n",
       "      <td>Electronics</td>\n",
       "      <td>1</td>\n",
       "    </tr>\n",
       "    <tr>\n",
       "      <th>3</th>\n",
       "      <td>2</td>\n",
       "      <td>Electronics</td>\n",
       "      <td>1</td>\n",
       "    </tr>\n",
       "    <tr>\n",
       "      <th>4</th>\n",
       "      <td>2</td>\n",
       "      <td>Fashion</td>\n",
       "      <td>1</td>\n",
       "    </tr>\n",
       "  </tbody>\n",
       "</table>\n",
       "</div>"
      ],
      "text/plain": [
       "   Cluster     Category  PurchaseCount\n",
       "1        0    Groceries              2\n",
       "0        0      Fashion              1\n",
       "2        1  Electronics              1\n",
       "3        2  Electronics              1\n",
       "4        2      Fashion              1"
      ]
     },
     "execution_count": 23,
     "metadata": {},
     "output_type": "execute_result"
    }
   ],
   "source": [
    "# Recommend by purchase frequency..\n",
    "top_category_by_frequency = df_clustered.groupby(['Cluster','Category'])['ProductID'] \\\n",
    "                                       .count().reset_index(name='PurchaseCount') \\\n",
    "                                       .sort_values(['Cluster','PurchaseCount'], ascending=[True,False])\n",
    "print(\"Recommended by Frequency:\")\n",
    "top_category_by_frequency"
   ]
  },
  {
   "cell_type": "code",
   "execution_count": 24,
   "id": "92220843-a3df-4c29-8819-00b9b6f33f29",
   "metadata": {},
   "outputs": [
    {
     "name": "stdout",
     "output_type": "stream",
     "text": [
      "Recommended by Hybrid Score:\n"
     ]
    },
    {
     "data": {
      "text/html": [
       "<div>\n",
       "<style scoped>\n",
       "    .dataframe tbody tr th:only-of-type {\n",
       "        vertical-align: middle;\n",
       "    }\n",
       "\n",
       "    .dataframe tbody tr th {\n",
       "        vertical-align: top;\n",
       "    }\n",
       "\n",
       "    .dataframe thead th {\n",
       "        text-align: right;\n",
       "    }\n",
       "</style>\n",
       "<table border=\"1\" class=\"dataframe\">\n",
       "  <thead>\n",
       "    <tr style=\"text-align: right;\">\n",
       "      <th></th>\n",
       "      <th>Cluster</th>\n",
       "      <th>Category</th>\n",
       "      <th>Score</th>\n",
       "    </tr>\n",
       "  </thead>\n",
       "  <tbody>\n",
       "    <tr>\n",
       "      <th>0</th>\n",
       "      <td>0</td>\n",
       "      <td>Fashion</td>\n",
       "      <td>1250.5</td>\n",
       "    </tr>\n",
       "    <tr>\n",
       "      <th>1</th>\n",
       "      <td>0</td>\n",
       "      <td>Groceries</td>\n",
       "      <td>601.0</td>\n",
       "    </tr>\n",
       "    <tr>\n",
       "      <th>2</th>\n",
       "      <td>1</td>\n",
       "      <td>Electronics</td>\n",
       "      <td>10000.5</td>\n",
       "    </tr>\n",
       "    <tr>\n",
       "      <th>3</th>\n",
       "      <td>2</td>\n",
       "      <td>Electronics</td>\n",
       "      <td>7500.5</td>\n",
       "    </tr>\n",
       "    <tr>\n",
       "      <th>4</th>\n",
       "      <td>2</td>\n",
       "      <td>Fashion</td>\n",
       "      <td>1500.5</td>\n",
       "    </tr>\n",
       "  </tbody>\n",
       "</table>\n",
       "</div>"
      ],
      "text/plain": [
       "   Cluster     Category    Score\n",
       "0        0      Fashion   1250.5\n",
       "1        0    Groceries    601.0\n",
       "2        1  Electronics  10000.5\n",
       "3        2  Electronics   7500.5\n",
       "4        2      Fashion   1500.5"
      ]
     },
     "execution_count": 24,
     "metadata": {},
     "output_type": "execute_result"
    }
   ],
   "source": [
    "# Combine amount and frequency\n",
    "category_scores = df_clustered.groupby(['Cluster','Category']).agg({\n",
    "    'PurchaseAmount': ['sum', 'mean'],\n",
    "    'ProductID': 'count'\n",
    "}).reset_index()\n",
    "\n",
    "category_scores.columns = ['Cluster','Category','TotalSpend','AvgSpend','PurchaseCount']\n",
    "category_scores['Score'] = category_scores['TotalSpend'] * 0.5 + category_scores['PurchaseCount'] * 0.5\n",
    "top_hybrid = category_scores.sort_values(['Cluster','Score'], ascending=[True,False])\n",
    "print(\"Recommended by Hybrid Score:\")\n",
    "top_hybrid[['Cluster','Category','Score']]"
   ]
  },
  {
   "cell_type": "code",
   "execution_count": null,
   "id": "3e144c86-536f-4841-b65a-5e986d6e3ccb",
   "metadata": {},
   "outputs": [],
   "source": []
  }
 ],
 "metadata": {
  "kernelspec": {
   "display_name": "Python 3 (ipykernel)",
   "language": "python",
   "name": "python3"
  },
  "language_info": {
   "codemirror_mode": {
    "name": "ipython",
    "version": 3
   },
   "file_extension": ".py",
   "mimetype": "text/x-python",
   "name": "python",
   "nbconvert_exporter": "python",
   "pygments_lexer": "ipython3",
   "version": "3.12.0"
  }
 },
 "nbformat": 4,
 "nbformat_minor": 5
}
